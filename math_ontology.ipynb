{
 "cells": [
  {
   "cell_type": "code",
   "execution_count": 1,
   "id": "1e811747-6a69-47e4-baa4-d9f23db9c805",
   "metadata": {},
   "outputs": [
    {
     "name": "stdout",
     "output_type": "stream",
     "text": [
      "Requirement already satisfied: owlready2 in /opt/anaconda3/lib/python3.12/site-packages (0.47)\n"
     ]
    }
   ],
   "source": [
    "!pip install owlready2\n"
   ]
  },
  {
   "cell_type": "code",
   "execution_count": 2,
   "id": "146ec5d3-1444-4760-a5f8-4f4471d1c799",
   "metadata": {},
   "outputs": [
    {
     "name": "stdout",
     "output_type": "stream",
     "text": [
      "Owlready2 installed successfully!\n"
     ]
    }
   ],
   "source": [
    "import owlready2\n",
    "print(\"Owlready2 installed successfully!\")"
   ]
  },
  {
   "cell_type": "code",
   "execution_count": null,
   "id": "2588a1f1-9cdc-42a6-8f73-0620e0ab45c5",
   "metadata": {},
   "outputs": [],
   "source": [
    "from owlready2 import *\n",
    "import tkinter as tk\n",
    "from tkinter import messagebox\n",
    "\n",
    "onto_path.append(\"./\")  \n",
    "ontology = get_ontology(\"math.owl\").load()  \n",
    "\n",
    "\n",
    "class Triangle(Thing):\n",
    "    namespace = ontology\n",
    "\n",
    "class Circle(Thing):\n",
    "    namespace = ontology\n",
    "\n",
    "def calculate_triangle_area():\n",
    "    try:\n",
    "        base = float(entry_base.get())\n",
    "        height = float(entry_height.get())\n",
    "        \n",
    "        area = 0.5 * base * height\n",
    "        result_label_triangle.config(text=f\"Area: {area:.2f} units²\", fg=\"#4CAF50\")\n",
    "        \n",
    "        with ontology:\n",
    "            triangle_instance = Triangle(f\"triangle_instance_{len(ontology.individuals()) + 1}\")\n",
    "            triangle_instance.base = base\n",
    "            triangle_instance.height = height\n",
    "            triangle_instance.area = area\n",
    "        \n",
    "        messagebox.showinfo(\"Success\", \"Triangle data added to ontology successfully!\")\n",
    "    except ValueError:\n",
    "        result_label_triangle.config(text=\"Invalid input! Enter numbers only.\", fg=\"#f44336\")\n",
    "\n",
    "def calculate_circle_values():\n",
    "    try:\n",
    "        radius = float(entry_radius.get())\n",
    "        \n",
    "        area = 3.1416 * radius ** 2\n",
    "        circumference = 2 * 3.1416 * radius\n",
    "        result_label_circle.config(text=f\"Area: {area:.2f} units² | Circumference: {circumference:.2f} units\", fg=\"#4CAF50\")\n",
    "        \n",
    "        with ontology:\n",
    "            circle_instance = Circle(f\"circle_instance_{len(ontology.individuals()) + 1}\")\n",
    "            circle_instance.radius = radius\n",
    "            circle_instance.area = area\n",
    "            circle_instance.circumference = circumference\n",
    "        \n",
    "        messagebox.showinfo(\"Success\", \"Circle data added to ontology successfully!\")\n",
    "    except ValueError:\n",
    "        result_label_circle.config(text=\"Invalid input! Enter numbers only.\", fg=\"#f44336\")\n",
    "\n",
    "def clear_triangle_fields():\n",
    "    entry_base.delete(0, tk.END)\n",
    "    entry_height.delete(0, tk.END)\n",
    "    result_label_triangle.config(text=\"\")\n",
    "\n",
    "def clear_circle_fields():\n",
    "    entry_radius.delete(0, tk.END)\n",
    "    result_label_circle.config(text=\"\")\n",
    "\n",
    "root = tk.Tk()\n",
    "root.title(\"Area Calculator ITS\")\n",
    "root.geometry(\"700x550\")\n",
    "root.config(bg=\"#E8F0F2\")\n",
    "\n",
    "\n",
    "tk.Label(root, text=\"Shape Area Calculator\", font=(\"Verdana\", 24, \"bold\"), bg=\"#E8F0F2\", fg=\"#2E4C6D\").pack(pady=15)\n",
    "\n",
    "triangle_frame = tk.LabelFrame(root, text=\"📊 Triangle Area Calculator\", font=(\"Verdana\", 14, \"bold\"), bg=\"#FFFFFF\", fg=\"#2E4C6D\", relief=\"ridge\", bd=3)\n",
    "triangle_frame.pack(pady=10, padx=20, fill=\"both\")\n",
    "\n",
    "tk.Label(triangle_frame, text=\"Enter Base:\", font=(\"Verdana\", 12), bg=\"#FFFFFF\").grid(row=0, column=0, padx=10, pady=5)\n",
    "entry_base = tk.Entry(triangle_frame, font=(\"Verdana\", 12), width=10)\n",
    "entry_base.grid(row=0, column=1, padx=10, pady=5)\n",
    "\n",
    "tk.Label(triangle_frame, text=\"Enter Height:\", font=(\"Verdana\", 12), bg=\"#FFFFFF\").grid(row=1, column=0, padx=10, pady=5)\n",
    "entry_height = tk.Entry(triangle_frame, font=(\"Verdana\", 12), width=10)\n",
    "entry_height.grid(row=1, column=1, padx=10, pady=5)\n",
    "\n",
    "# Buttons\n",
    "calculate_triangle_button = tk.Button(triangle_frame, text=\"📈 Calculate Area\", font=(\"Verdana\", 10, \"bold\"), bg=\"#4CAF50\", fg=\"white\", relief=\"raised\", command=calculate_triangle_area)\n",
    "calculate_triangle_button.grid(row=2, column=0, padx=10, pady=10)\n",
    "\n",
    "clear_triangle_button = tk.Button(triangle_frame, text=\"❌ Clear\", font=(\"Verdana\", 10, \"bold\"), bg=\"#f44336\", fg=\"white\", relief=\"raised\", command=clear_triangle_fields)\n",
    "clear_triangle_button.grid(row=2, column=1, padx=10, pady=10)\n",
    "\n",
    "result_label_triangle = tk.Label(triangle_frame, text=\"\", font=(\"Verdana\", 12), bg=\"#FFFFFF\", fg=\"#333\")\n",
    "result_label_triangle.grid(row=3, column=0, columnspan=2, pady=10)\n",
    "\n",
    "# CIRCLE\n",
    "circle_frame = tk.LabelFrame(root, text=\"🌐 Circle Area & Circumference Calculator\", font=(\"Verdana\", 14, \"bold\"), bg=\"#FFFFFF\", fg=\"#2E4C6D\", relief=\"ridge\", bd=3)\n",
    "circle_frame.pack(pady=10, padx=20, fill=\"both\")\n",
    "\n",
    "tk.Label(circle_frame, text=\"Enter Radius:\", font=(\"Verdana\", 12), bg=\"#FFFFFF\").grid(row=0, column=0, padx=10, pady=5)\n",
    "entry_radius = tk.Entry(circle_frame, font=(\"Verdana\", 12), width=10)\n",
    "entry_radius.grid(row=0, column=1, padx=10, pady=5)\n",
    "\n",
    "calculate_circle_button = tk.Button(circle_frame, text=\"📈 Calculate Values\", font=(\"Verdana\", 10, \"bold\"), bg=\"#4CAF50\", fg=\"white\", relief=\"raised\", command=calculate_circle_values)\n",
    "calculate_circle_button.grid(row=1, column=0, padx=10, pady=10)\n",
    "\n",
    "clear_circle_button = tk.Button(circle_frame, text=\"❌ Clear\", font=(\"Verdana\", 10, \"bold\"), bg=\"#f44336\", fg=\"white\", relief=\"raised\", command=clear_circle_fields)\n",
    "clear_circle_button.grid(row=1, column=1, padx=10, pady=10)\n",
    "\n",
    "result_label_circle = tk.Label(circle_frame, text=\"\", font=(\"Verdana\", 12), bg=\"#FFFFFF\", fg=\"#333\")\n",
    "result_label_circle.grid(row=2, column=0, columnspan=2, pady=10)\n",
    "\n",
    "tk.Label(root, text=\"© Intelligent Tutoring System\", font=(\"Verdana\", 10, \"italic\"), bg=\"#E8F0F2\", fg=\"#777\").pack(side=tk.BOTTOM, pady=10)\n",
    "\n",
    "root.mainloop()\n"
   ]
  },
  {
   "cell_type": "code",
   "execution_count": null,
   "id": "408d8c29-51ec-4262-8749-98d4d7b8a0c4",
   "metadata": {},
   "outputs": [],
   "source": []
  },
  {
   "cell_type": "code",
   "execution_count": null,
   "id": "f2fdd981-6090-476b-adbd-5577ab30e396",
   "metadata": {},
   "outputs": [],
   "source": []
  }
 ],
 "metadata": {
  "kernelspec": {
   "display_name": "Python 3 (ipykernel)",
   "language": "python",
   "name": "python3"
  },
  "language_info": {
   "codemirror_mode": {
    "name": "ipython",
    "version": 3
   },
   "file_extension": ".py",
   "mimetype": "text/x-python",
   "name": "python",
   "nbconvert_exporter": "python",
   "pygments_lexer": "ipython3",
   "version": "3.12.7"
  }
 },
 "nbformat": 4,
 "nbformat_minor": 5
}
